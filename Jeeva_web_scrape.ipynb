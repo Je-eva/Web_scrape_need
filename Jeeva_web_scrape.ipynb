{
 "cells": [
  {
   "cell_type": "code",
   "execution_count": 32,
   "id": "5d11029f",
   "metadata": {},
   "outputs": [],
   "source": [
    "\n",
    "from bs4 import BeautifulSoup\n",
    "import requests\n",
    "import time\n",
    "import datetime\n",
    "import re\n"
   ]
  },
  {
   "cell_type": "code",
   "execution_count": null,
   "id": "ef9bdb8b",
   "metadata": {},
   "outputs": [],
   "source": [
    "# Connect to Website and pull in data\n",
    "\n",
    "\n",
    "\n",
    "\n",
    "title = soup2.find(id=\"productTitle\").get_text().strip()\n",
    "\n",
    "price = soup2.find(class_=\"a-price-whole\").get_text().strip()\n",
    "# Clean up the data \n",
    "\n",
    "price = re.sub(r'[^0-9]', '', price)\n",
    "\n",
    "# Convert to integer \n",
    "price = int(price)\n",
    "\n",
    "print(title)\n",
    "print(price)\n"
   ]
  },
  {
   "cell_type": "code",
   "execution_count": 37,
   "id": "61332fa5",
   "metadata": {},
   "outputs": [
    {
     "name": "stdout",
     "output_type": "stream",
     "text": [
      "2024-04-05\n"
     ]
    }
   ],
   "source": [
    "       \n",
    "import datetime\n",
    "today = datetime.date.today()\n",
    "print(today)\n",
    "\n",
    "# Create CSV and write headers and data into the file\n",
    "import csv\n",
    "header = ['Title', 'Price', 'Date']\n",
    "data = [title, price, today]\n",
    "\n",
    "with open('AmazonWebScraperDataset.csv', 'w', newline='', encoding='UTF8') as f:\n",
    "    writer = csv.writer(f)\n",
    "    writer.writerow(header)\n",
    "    writer.writerow(data)   \n"
   ]
  },
  {
   "cell_type": "code",
   "execution_count": 38,
   "id": "b694ae23",
   "metadata": {},
   "outputs": [
    {
     "name": "stdout",
     "output_type": "stream",
     "text": [
      "                                               Title  Price        Date\n",
      "0  boAt Airdopes 141 ANC TWS in Ear Earbuds with ...   1499  2024-04-05\n"
     ]
    }
   ],
   "source": [
    "import pandas as pd\n",
    "\n",
    "df = pd.read_csv(r'C:\\Users\\jacky\\AmazonWebScraperDataset.csv')\n",
    "print(df)\n",
    "\n",
    "#Now we are appending data to the csv\n",
    "with open('AmazonWebScraperDataset.csv', 'a+', newline='', encoding='UTF8') as f:\n",
    "    writer = csv.writer(f)\n",
    "    writer.writerow(data)\n",
    "\n",
    "#Combine all of the above code into one function\n",
    "\n",
    "\n",
    "\n",
    "\n",
    "\n",
    "\n"
   ]
  },
  {
   "cell_type": "code",
   "execution_count": 42,
   "id": "572a7baf",
   "metadata": {},
   "outputs": [],
   "source": [
    "def check_price():\n",
    "    URL = 'https://www.amazon.in/boAt-Launched-Airdopes-141-ANC/dp/B0C7QS9M38/ref=sr_1_7?crid=35JZ99A216173&dib=eyJ2IjoiMSJ9.JSxLeYYjVbx3nRdXglU9fEEjk6R8_NlbyhUOYowEp94jlIIEEqTWlrFxT8E30shIGzjK9ArsAIjzmAHJ09N7t8JOVgpmyWNtenR3Ql-Rby7aimn-7Y-040o9e0HYDm1kFF0UqsDMtJ9eBOXXyS8LxJ43NI5y3K0hN6duYF_J-4hm8WwC9keAJiSdZDqsA4ogkVbqBCwfRPQzuXwI5015UDKP0SVsAo_qQxGNC8YFh3xVlLI28yz3P11OsM3xQWg61nMymaH6Xjs92zGiHjm5fWibIr2gutkBJQSuX4QDnpY.20eLM_pXOONYsErrdIZR4Y_1z0dtPn94lYahQJnwz2I&dib_tag=se&keywords=boat+airdopes&qid=1712325351&s=electronics&sprefix=boat+a%2Celectronics%2C221&sr=1-7' \n",
    "\n",
    "    headers = {\"User-Agent\": \"Mozilla/5.0 (Windows NT 10.0; Win64; x64) AppleWebKit/537.36 (KHTML, like Gecko) Chrome/123.0.0.0 Safari/537.36\",\"Accept-Encoding\": \"gzip, deflate, br, zstd\",     \"Accept\": \"text/html,application/xhtml+xml,application/xml;q=0.9,image/avif,image/webp,image/apng,*/*;q=0.8,application/signed-exchange;v=b3;q=0.7\", \"DNT\":\"1\",\"Connection\":\"close\",    \"Upgrade-Insecure-Requests\": \"1\"}\n",
    "\n",
    "    page = requests.get(URL, headers=headers)\n",
    "\n",
    "    soup1 = BeautifulSoup(page.content, \"html.parser\")\n",
    "\n",
    "    soup2 = BeautifulSoup(soup1.prettify(), \"html.parser\")\n",
    "\n",
    "\n",
    "    title = soup2.find(id=\"productTitle\").get_text().strip()\n",
    "\n",
    "    price = soup2.find(class_=\"a-price-whole\").get_text().strip()\n",
    "# Clean up the data \n",
    "\n",
    "    price = re.sub(r'[^0-9]', '', price)\n",
    "\n",
    "# Convert to integer \n",
    "    price = int(price)\n",
    "\n",
    "    print(title)\n",
    "    print(price)\n",
    "\n",
    "\n",
    "    import datetime\n",
    "\n",
    "    today = datetime.date.today()\n",
    "    \n",
    "    import csv\n",
    "\n",
    "    header = ['Title', 'Price', 'Date']\n",
    "    data = [title, price, today]\n",
    "\n",
    "    with open('AmazonWebScraperDataset.csv', 'a+', newline='', encoding='UTF8') as f:\n",
    "        writer = csv.writer(f)\n",
    "        writer.writerow(data)\n",
    "\n",
    "        \n",
    "    if(price<1300):\n",
    "        send_mail()\n",
    "# Runs check_price after a set time and inputs data into your CSV\n",
    "\n",
    "\n",
    "\n",
    "\n",
    "\n",
    "#  sending yourself an email when a price hits below a certain level \n"
   ]
  },
  {
   "cell_type": "code",
   "execution_count": null,
   "id": "260ba013",
   "metadata": {},
   "outputs": [
    {
     "name": "stdout",
     "output_type": "stream",
     "text": [
      "boAt Airdopes 141 ANC TWS in Ear Earbuds with 32 Db ANC, 42 Hrs Playback, 50Ms Low Latency Beast Mode, Iwp Tech,Quad Mics with Enx,ASAP Charge,USB Type-C Port & Ipx5(Gunmetal Black)\n",
      "1499\n"
     ]
    }
   ],
   "source": [
    "while(True):\n",
    "    check_price()\n",
    "    time.sleep(86400) #each day\n",
    "    \n",
    "\n",
    "\n",
    "\n"
   ]
  },
  {
   "cell_type": "code",
   "execution_count": null,
   "id": "7d032cab",
   "metadata": {},
   "outputs": [],
   "source": [
    "def send_mail():\n",
    "    server = smtplib.SMTP_SSL('smtp.gmail.com',465)\n",
    "    server.ehlo()\n",
    "    #server.starttls()\n",
    "    server.ehlo()\n",
    "    server.login('email@gmail.com','password')\n",
    "    subject = \"The Earphone you want is below 1300! Now is your chance to buy!\"\n",
    "    body = \"Jeeva, This is the moment we have been waiting for. Now is your chance to pick up the earphone of your dreams. Don't mess it up! Link here: https://www.amazon.com/Funny-Data-Systems-Business-Analyst/dp/B07FNW9FGJ/ref=sr_1_3?dchild=1&keywords=data+analyst+tshirt&qid=1626655184&sr=8-3\"\n",
    "    msg = f\"Subject: {subject}\\n\\n{body}\"\n",
    "    server.sendmail('email@gmail.com',msg)"
   ]
  },
  {
   "cell_type": "code",
   "execution_count": null,
   "id": "55424a16",
   "metadata": {},
   "outputs": [],
   "source": []
  }
 ],
 "metadata": {
  "kernelspec": {
   "display_name": "Python 3 (ipykernel)",
   "language": "python",
   "name": "python3"
  },
  "language_info": {
   "codemirror_mode": {
    "name": "ipython",
    "version": 3
   },
   "file_extension": ".py",
   "mimetype": "text/x-python",
   "name": "python",
   "nbconvert_exporter": "python",
   "pygments_lexer": "ipython3",
   "version": "3.11.5"
  }
 },
 "nbformat": 4,
 "nbformat_minor": 5
}
